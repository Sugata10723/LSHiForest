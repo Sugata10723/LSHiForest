{
 "cells": [
  {
   "cell_type": "code",
   "execution_count": null,
   "metadata": {},
   "outputs": [],
   "source": [
    "import numpy as np\n",
    "import time\n",
    "import pandas as pd\n",
    "import matplotlib.pyplot as plt\n",
    "from sklearn.metrics import accuracy_score\n",
    "from sklearn.ensemble import IsolationForest\n",
    "from sklearn.metrics import roc_auc_score, roc_curve\n",
    "import sys\n",
    "sys.path.append('/Users/ham/Desktop/research/LSHiForest/src/')\n",
    "from detectors import LSHiForest"
   ]
  },
  {
   "cell_type": "code",
   "execution_count": null,
   "metadata": {},
   "outputs": [],
   "source": [
    "X_train = np.array([[\"A\", \"B\", \"C\"],\n",
    "             [\"A\", \"D\", \"B\"]], dtype=object)\n",
    "X_test = np.array([[\"A\", \"B\", \"C\"],\n",
    "             [\"A\", \"D\", \"B\"]], dtype=object)\n",
    "y_test = np.array([1, 0])\n"
   ]
  },
  {
   "cell_type": "code",
   "execution_count": null,
   "metadata": {},
   "outputs": [],
   "source": [
    "num_ensemblers=1\n",
    "classifiers = [(\"MinLSH\", LSHiForest('MinLSH', num_ensemblers))]\n",
    "\n",
    "\n",
    "for i, (clf_name, clf) in enumerate(classifiers):\n",
    "\t\n",
    "\tprint(\"\\n\"+clf_name+\":\")\n",
    "\tstart_time = time.time()\n",
    "\t\n",
    "\tclf.fit(X_train)\n",
    "\t\n",
    "\ttrain_time = time.time()-start_time\n",
    "\t\n",
    "\ty_pred = clf.decision_function(X_test)\n",
    "\t\n",
    "\ttest_time = time.time()-start_time-train_time\n",
    "\t\n",
    "\tauc = roc_auc_score(y_test, y_pred)\n",
    "\t\n",
    "\tprint(\"\\tAUC score:\\t\", auc)\n",
    "\tprint(\"\\tTraining time:\\t\", train_time) \n",
    "\tprint(\"\\tTesting time:\\t\", test_time)"
   ]
  }
 ],
 "metadata": {
  "kernelspec": {
   "display_name": ".venv",
   "language": "python",
   "name": "python3"
  },
  "language_info": {
   "codemirror_mode": {
    "name": "ipython",
    "version": 3
   },
   "file_extension": ".py",
   "mimetype": "text/x-python",
   "name": "python",
   "nbconvert_exporter": "python",
   "pygments_lexer": "ipython3",
   "version": "3.10.4"
  }
 },
 "nbformat": 4,
 "nbformat_minor": 2
}
